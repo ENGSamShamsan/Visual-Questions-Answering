{
 "cells": [
  {
   "cell_type": "code",
   "execution_count": 1,
   "metadata": {},
   "outputs": [
    {
     "name": "stderr",
     "output_type": "stream",
     "text": [
      "\n",
      "Bad key \"text.kerning_factor\" on line 4 in\n",
      "C:\\Users\\adamf\\anaconda3\\lib\\site-packages\\matplotlib\\mpl-data\\stylelib\\_classic_test_patch.mplstyle.\n",
      "You probably need to get an updated matplotlibrc file from\n",
      "http://github.com/matplotlib/matplotlib/blob/master/matplotlibrc.template\n",
      "or from the matplotlib source distribution\n"
     ]
    }
   ],
   "source": [
    "import json\n",
    "import pandas as pd\n",
    "import numpy as np\n",
    "\n",
    "from matplotlib import pyplot as plt\n",
    "from matplotlib import image as mpimg\n",
    "\n",
    "from sklearn.pipeline import Pipeline\n",
    "from sklearn.model_selection import GridSearchCV\n",
    "from sklearn.feature_extraction.text import TfidfVectorizer\n",
    "from sklearn.linear_model import SGDClassifier\n",
    "from sklearn.metrics import confusion_matrix, classification_report"
   ]
  },
  {
   "cell_type": "markdown",
   "metadata": {},
   "source": [
    "# Load and Split VQA Data"
   ]
  },
  {
   "cell_type": "code",
   "execution_count": 2,
   "metadata": {},
   "outputs": [],
   "source": [
    "def load_annotations(filepath):\n",
    "    with open(filepath) as json_file:\n",
    "        data = json.load(json_file)\n",
    "        data = data['annotations']\n",
    "    return data\n",
    "\n",
    "def load_questions(filepath):\n",
    "    with open(filepath) as json_file:\n",
    "        data = json.load(json_file)\n",
    "        data = data['questions']\n",
    "    return data"
   ]
  },
  {
   "cell_type": "code",
   "execution_count": 3,
   "metadata": {},
   "outputs": [],
   "source": [
    "def plot_image(image_id,val=False):\n",
    "    if val:\n",
    "        path = 'val2014/COCO_val2014_000000'\n",
    "        \n",
    "    else:\n",
    "        path = 'train2014/COCO_train2014_000000'\n",
    "        \n",
    "    img = mpimg.imread(path + str(image_id) + '.jpg')\n",
    "    plt.imshow(img)\n",
    "    plt.axis('off')\n",
    "    plt.show()\n",
    "    "
   ]
  },
  {
   "cell_type": "code",
   "execution_count": 4,
   "metadata": {},
   "outputs": [],
   "source": [
    "val_annotation_path = 'v2_Annotations_Val_mscoco/v2_mscoco_val2014_annotations.json'\n",
    "trn_annotation_path = 'v2_Annotations_Train_mscoco/v2_mscoco_train2014_annotations.json'\n",
    "\n",
    "val_questions_path = 'v2_Questions_Val_mscoco/v2_OpenEnded_mscoco_val2014_questions.json'\n",
    "trn_questions_path = 'v2_Questions_Train_mscoco/v2_OpenEnded_mscoco_train2014_questions.json'"
   ]
  },
  {
   "cell_type": "code",
   "execution_count": 5,
   "metadata": {},
   "outputs": [],
   "source": [
    "trn_labels = load_annotations(trn_annotation_path)\n",
    "val_labels = load_annotations(val_annotation_path)\n",
    "\n",
    "trn_quests = load_questions(trn_questions_path)\n",
    "val_quests = load_questions(val_questions_path)"
   ]
  },
  {
   "cell_type": "code",
   "execution_count": 6,
   "metadata": {},
   "outputs": [],
   "source": [
    "val = [(label['question_type'], question['image_id'], question['question']) for label, question in zip(val_labels,val_quests)]\n",
    "train = [(label['question_type'], question['image_id'], question['question']) for label, question in zip(trn_labels,trn_quests)]"
   ]
  },
  {
   "cell_type": "code",
   "execution_count": 7,
   "metadata": {},
   "outputs": [],
   "source": [
    "X_train = [item['question'] for item in trn_quests]\n",
    "y_train = [item['question_type'] for item in trn_labels]\n",
    "X_val = [item['question'] for item in val_quests]\n",
    "y_val = [item['question_type'] for item in val_labels]"
   ]
  },
  {
   "cell_type": "markdown",
   "metadata": {},
   "source": [
    "# Preprocess VQA Data (simplify question types)"
   ]
  },
  {
   "cell_type": "code",
   "execution_count": 8,
   "metadata": {},
   "outputs": [],
   "source": [
    "fewer_y_train = []\n",
    "fewer_y_val = []\n",
    "\n",
    "existence_q = ['are there', 'is that a', 'what', 'what is the name',  \n",
    "                 'what is this', 'are these', 'is there', 'is there a', \n",
    "                 'are these', 'are', 'is it', 'is', 'this an', \n",
    "                 'is this a','what are','are there any','what is']\n",
    "\n",
    "color_q = ['what color', 'what color is the','what color are the']\n",
    "where_q = ['where is the', 'where are the']\n",
    "how_many = ['how many people are in', 'how many']"
   ]
  },
  {
   "cell_type": "code",
   "execution_count": 9,
   "metadata": {},
   "outputs": [],
   "source": [
    "for item in y_train:\n",
    "    if item in existence_q:\n",
    "        item = 'is there'\n",
    "    elif item in color_q:\n",
    "        item = 'what color'\n",
    "    elif item in where_q:\n",
    "        item = 'where'\n",
    "    elif item in how_many:\n",
    "        item = 'how many'\n",
    "    else:\n",
    "        item = 'other'\n",
    "    fewer_y_train.append(item)\n",
    "\n",
    "for item in y_val:\n",
    "    if item in existence_q:\n",
    "        item = 'is there'\n",
    "    elif item in color_q:\n",
    "        item = 'what color'\n",
    "    elif item in where_q:\n",
    "        item = 'where'\n",
    "    elif item in how_many:\n",
    "        item = 'how many'\n",
    "    else:\n",
    "        item = 'other'\n",
    "    fewer_y_val.append(item)\n"
   ]
  },
  {
   "cell_type": "code",
   "execution_count": 10,
   "metadata": {},
   "outputs": [
    {
     "data": {
      "text/plain": [
       "(65, 5)"
      ]
     },
     "execution_count": 10,
     "metadata": {},
     "output_type": "execute_result"
    }
   ],
   "source": [
    "len(set(y_train)), len(set(fewer_y_train))"
   ]
  },
  {
   "cell_type": "markdown",
   "metadata": {},
   "source": [
    "# SGD Classifier"
   ]
  },
  {
   "cell_type": "code",
   "execution_count": 11,
   "metadata": {},
   "outputs": [],
   "source": [
    "sgd_pipeline = Pipeline([('tfidf', TfidfVectorizer(ngram_range=(1,4))),\n",
    "                         ('clf', SGDClassifier())])\n",
    "sgd_parameters = {'tfidf__lowercase': [True, False],\n",
    "                  'tfidf__analyzer': ['word', 'char', 'char_wb'],\n",
    "                  'tfidf__stop_words': [None, 'english'],\n",
    "                  'tfidf__ngram_range': [(1,1),(1,3),(1,5)],\n",
    "                  'tfidf__norm': ['l1', 'l2'],\n",
    "                  'tfidf__use_idf': [True, False],\n",
    "                  'tfidf__smooth_idf': [True, False],\n",
    "                  'tfidf__sublinear_tf': [True, False],\n",
    "                  \n",
    "                  'clf__loss': [ 'hinge', 'log', 'modified_huber', 'squared_hinge'],\n",
    "                  'clf__alpha': [1e-3, 1e-4, 1e-5],\n",
    "                  'clf__l1_ratio': np.linspace(0,1,4),\n",
    "                  'clf__random_state': [1]\n",
    "                 }\n",
    "sgd_model = GridSearchCV(sgd_pipeline, sgd_parameters,n_jobs=-1)"
   ]
  },
  {
   "cell_type": "markdown",
   "metadata": {},
   "source": [
    "## Find Optimal Parameters"
   ]
  },
  {
   "cell_type": "code",
   "execution_count": 12,
   "metadata": {},
   "outputs": [],
   "source": [
    "sgd_model.fit(X_train[:5000], fewer_y_train[:5000])"
   ]
  },
  {
   "cell_type": "code",
   "execution_count": 13,
   "metadata": {},
   "outputs": [
    {
     "name": "stdout",
     "output_type": "stream",
     "text": [
      "{'clf__alpha': 0.0001,\n",
      " 'clf__l1_ratio': 0.0,\n",
      " 'clf__loss': 'hinge',\n",
      " 'clf__random_state': 1,\n",
      " 'tfidf__analyzer': 'word',\n",
      " 'tfidf__lowercase': False,\n",
      " 'tfidf__ngram_range': (1, 3),\n",
      " 'tfidf__norm': 'l2',\n",
      " 'tfidf__smooth_idf': True,\n",
      " 'tfidf__stop_words': None,\n",
      " 'tfidf__sublinear_tf': False,\n",
      " 'tfidf__use_idf': False}\n",
      "\n"
     ]
    }
   ],
   "source": [
    "sgd_model.best_params_"
   ]
  },
  {
   "cell_type": "markdown",
   "metadata": {},
   "source": [
    "## Train and Score Model with Optimal Parameters"
   ]
  },
  {
   "cell_type": "code",
   "execution_count": 14,
   "metadata": {},
   "outputs": [
    {
     "data": {
      "text/plain": [
       "Pipeline(steps=[('tfidf',\n",
       "                 TfidfVectorizer(lowercase=False, ngram_range=(1, 3),\n",
       "                                 use_idf=False)),\n",
       "                ('clf', SGDClassifier(random_state=1))])"
      ]
     },
     "execution_count": 14,
     "metadata": {},
     "output_type": "execute_result"
    }
   ],
   "source": [
    "opt_pipeline = Pipeline([('tfidf', TfidfVectorizer(ngram_range=(1,3),\n",
    "                                                   lowercase=False,\n",
    "                                                   norm='l2',\n",
    "                                                   smooth_idf=True, \n",
    "                                                   sublinear_tf=False, \n",
    "                                                   use_idf=False)),\n",
    "                         ('clf', SGDClassifier(alpha=0.0001, loss='hinge', penalty='l2', random_state=1))])\n",
    "opt_pipeline.fit(X_train, fewer_y_train)"
   ]
  },
  {
   "cell_type": "code",
   "execution_count": 15,
   "metadata": {},
   "outputs": [
    {
     "data": {
      "text/plain": [
       "0.9773318902376442"
      ]
     },
     "execution_count": 15,
     "metadata": {},
     "output_type": "execute_result"
    }
   ],
   "source": [
    "opt_pipeline.score(X_val, fewer_y_val)"
   ]
  },
  {
   "cell_type": "code",
   "execution_count": 16,
   "metadata": {},
   "outputs": [
    {
     "data": {
      "image/png": "[encoded data removed]",
      "text/plain": [
       "<Figure size 432x288 with 1 Axes>"
      ]
     },
     "metadata": {
      "needs_background": "light"
     },
     "output_type": "display_data"
    },
    {
     "name": "stdout",
     "output_type": "stream",
     "text": [
      "              precision    recall  f1-score   support\n",
      "\n",
      "    how many       1.00      1.00      1.00     21367\n",
      "    is there       0.94      0.99      0.96     58296\n",
      "       other       0.99      0.96      0.98    111055\n",
      "  what color       0.99      1.00      1.00     18607\n",
      "       where       1.00      1.00      1.00      5029\n",
      "\n",
      "    accuracy                           0.98    214354\n",
      "   macro avg       0.98      0.99      0.99    214354\n",
      "weighted avg       0.98      0.98      0.98    214354\n",
      "\n"
     ]
    }
   ],
   "source": [
    "preds = opt_pipeline.predict(X_val)\n",
    "plt.imshow(confusion_matrix(fewer_y_val,preds),cmap='Accent')\n",
    "plt.title('Simplified Labels')\n",
    "plt.ylabel('True labels')\n",
    "plt.xlabel('Predicted labels')\n",
    "plt.savefig('simplified_cf_opt.png')\n",
    "plt.show()\n",
    "print(classification_report(fewer_y_val,preds))"
   ]
  },
  {
   "cell_type": "markdown",
   "metadata": {},
   "source": [
    "### Train Model on Full Dataset"
   ]
  },
  {
   "cell_type": "code",
   "execution_count": 17,
   "metadata": {},
   "outputs": [],
   "source": [
    "model = opt_pipeline.fit(X_train+X_val, fewer_y_train+fewer_y_val)"
   ]
  },
  {
   "cell_type": "markdown",
   "metadata": {},
   "source": [
    "## Train and Score with Default Parameters"
   ]
  },
  {
   "cell_type": "code",
   "execution_count": 18,
   "metadata": {},
   "outputs": [
    {
     "data": {
      "text/plain": [
       "0.8867294288886608"
      ]
     },
     "execution_count": 18,
     "metadata": {},
     "output_type": "execute_result"
    }
   ],
   "source": [
    "default_pipeline = Pipeline([('tfidf', TfidfVectorizer()),\n",
    "                     ('clf', SGDClassifier(random_state=1))])\n",
    "default_pipeline.fit(X_train, fewer_y_train)\n",
    "default_pipeline.score(X_val, fewer_y_val)"
   ]
  },
  {
   "cell_type": "code",
   "execution_count": 19,
   "metadata": {},
   "outputs": [
    {
     "data": {
      "image/png": "[encoded data removed]",
      "text/plain": [
       "<Figure size 432x288 with 1 Axes>"
      ]
     },
     "metadata": {
      "needs_background": "light"
     },
     "output_type": "display_data"
    },
    {
     "name": "stdout",
     "output_type": "stream",
     "text": [
      "              precision    recall  f1-score   support\n",
      "\n",
      "    how many       0.93      0.99      0.96     21367\n",
      "    is there       0.89      0.76      0.82     58296\n",
      "       other       0.88      0.91      0.89    111055\n",
      "  what color       0.91      0.97      0.94     18607\n",
      "       where       0.84      0.99      0.91      5029\n",
      "\n",
      "    accuracy                           0.89    214354\n",
      "   macro avg       0.89      0.92      0.90    214354\n",
      "weighted avg       0.89      0.89      0.88    214354\n",
      "\n"
     ]
    }
   ],
   "source": [
    "preds = default_pipeline.predict(X_val)\n",
    "plt.imshow(confusion_matrix(fewer_y_val,preds),cmap='Accent')\n",
    "plt.title('Simplified Labels')\n",
    "plt.ylabel('True labels')\n",
    "plt.xlabel('Predicted labels')\n",
    "plt.savefig('simplified_cf_bad.png')\n",
    "plt.show()\n",
    "print(classification_report(fewer_y_val,preds))"
   ]
  },
  {
   "cell_type": "markdown",
   "metadata": {},
   "source": [
    "## Train and Score with Specialized Labels (65)"
   ]
  },
  {
   "cell_type": "code",
   "execution_count": 20,
   "metadata": {},
   "outputs": [
    {
     "data": {
      "text/plain": [
       "0.8705505845470577"
      ]
     },
     "execution_count": 20,
     "metadata": {},
     "output_type": "execute_result"
    }
   ],
   "source": [
    "all_labels_pipeline = Pipeline([('tfidf', TfidfVectorizer()),\n",
    "                         ('clf', SGDClassifier(random_state=1))])\n",
    "all_labels_pipeline.fit(X_train, y_train)\n",
    "all_labels_pipeline.score(X_val, y_val)"
   ]
  },
  {
   "cell_type": "code",
   "execution_count": 21,
   "metadata": {},
   "outputs": [
    {
     "data": {
      "image/png": "[encoded data removed]",
      "text/plain": [
       "<Figure size 432x288 with 1 Axes>"
      ]
     },
     "metadata": {
      "needs_background": "light"
     },
     "output_type": "display_data"
    },
    {
     "name": "stderr",
     "output_type": "stream",
     "text": [
      "C:\\Users\\adamf\\anaconda3\\lib\\site-packages\\sklearn\\metrics\\_classification.py:1221: UndefinedMetricWarning: Precision and F-score are ill-defined and being set to 0.0 in labels with no predicted samples. Use `zero_division` parameter to control this behavior.\n",
      "  _warn_prf(average, modifier, msg_start, len(result))\n"
     ]
    },
    {
     "name": "stdout",
     "output_type": "stream",
     "text": [
      "                          precision    recall  f1-score   support\n",
      "\n",
      "                     are       0.83      0.60      0.70      2359\n",
      "                 are the       0.88      0.97      0.92      5264\n",
      "               are there       0.97      0.97      0.97      2771\n",
      "           are there any       0.84      0.99      0.91      1330\n",
      "               are these       0.87      0.99      0.92      2839\n",
      "                are they       0.98      0.99      0.99      1335\n",
      "                 can you       0.87      0.96      0.91       872\n",
      "                   could       0.76      1.00      0.86       618\n",
      "                      do       0.88      0.97      0.92      1503\n",
      "                  do you       0.86      0.93      0.89       724\n",
      "                does the       0.81      0.96      0.87      3183\n",
      "               does this       0.88      0.94      0.91      2227\n",
      "                     has       0.86      0.98      0.91       946\n",
      "                     how       0.93      0.97      0.95      2422\n",
      "                how many       0.99      0.98      0.98     20462\n",
      "     how many people are       0.89      0.94      0.91      2005\n",
      "  how many people are in       0.80      0.99      0.88       905\n",
      "                      is       0.89      0.46      0.61      3169\n",
      "                   is he       0.93      0.99      0.96      1087\n",
      "                   is it       0.93      0.97      0.95      3566\n",
      "               is that a       0.68      0.91      0.78       714\n",
      "                  is the       0.90      0.96      0.93     17265\n",
      "              is the man       0.89      0.98      0.93      2511\n",
      "           is the person       0.93      0.81      0.86       794\n",
      "            is the woman       0.93      0.89      0.91       992\n",
      "                is there       0.93      0.56      0.70      3120\n",
      "              is there a       0.78      0.98      0.87      4679\n",
      "                 is this       0.86      0.54      0.67      7841\n",
      "               is this a       0.69      0.93      0.79      7492\n",
      "              is this an       0.77      0.98      0.86       890\n",
      "          is this person       0.90      0.86      0.88       734\n",
      "       none of the above       0.85      0.51      0.63      8550\n",
      "                     was       0.98      0.86      0.92       818\n",
      "                    what       0.79      0.80      0.80     15897\n",
      "          what animal is       0.78      0.88      0.83       833\n",
      "                what are       0.90      0.69      0.78      1556\n",
      "            what are the       0.90      0.87      0.88      3282\n",
      "              what brand       0.82      1.00      0.90       935\n",
      "              what color       0.88      0.36      0.51      1428\n",
      "      what color are the       0.88      1.00      0.94      3118\n",
      "           what color is       0.88      0.73      0.80      1335\n",
      "       what color is the       0.94      0.98      0.96     14061\n",
      "           what does the       0.84      0.87      0.86      1970\n",
      "                 what is       0.83      0.69      0.76      6328\n",
      "          what is in the       0.81      0.90      0.86      1733\n",
      "          what is on the       0.85      0.82      0.83      2174\n",
      "             what is the       0.83      0.79      0.81     11353\n",
      "what is the color of the       0.80      0.92      0.85       826\n",
      "         what is the man       0.93      0.97      0.95      2663\n",
      "        what is the name       0.68      0.97      0.80       780\n",
      "      what is the person       0.90      0.94      0.92       900\n",
      "       what is the woman       0.89      0.95      0.92       853\n",
      "            what is this       0.88      0.59      0.71      1696\n",
      "            what kind of       0.94      1.00      0.97      5840\n",
      "          what number is       0.75      0.84      0.79       673\n",
      "            what room is       0.87      0.97      0.92       762\n",
      "           what sport is       0.85      0.99      0.92      1086\n",
      "               what time       0.90      0.99      0.94      1746\n",
      "            what type of       0.92      1.00      0.96      4040\n",
      "           where are the       0.94      1.00      0.97      1313\n",
      "            where is the       0.88      0.99      0.94      3716\n",
      "                   which       0.89      1.00      0.94      2448\n",
      "                  who is       0.72      0.99      0.84      1070\n",
      "                     why       0.73      0.99      0.84      1438\n",
      "              why is the       0.00      0.00      0.00       514\n",
      "\n",
      "                accuracy                           0.87    214354\n",
      "               macro avg       0.85      0.87      0.85    214354\n",
      "            weighted avg       0.87      0.87      0.86    214354\n",
      "\n"
     ]
    }
   ],
   "source": [
    "preds = all_labels_pipeline.predict(X_val)\n",
    "plt.imshow(confusion_matrix(y_val,preds),cmap='Accent')\n",
    "plt.title('Original Labels')\n",
    "plt.ylabel('True labels')\n",
    "plt.xlabel('Predicted labels')\n",
    "plt.savefig('original_cf.png')\n",
    "plt.show()\n",
    "\n",
    "print(classification_report(y_val,preds))"
   ]
  },
  {
   "cell_type": "code",
   "execution_count": null,
   "metadata": {},
   "outputs": [],
   "source": []
  }
 ],
 "metadata": {
  "kernelspec": {
   "display_name": "Python 3",
   "language": "python",
   "name": "python3"
  },
  "language_info": {
   "codemirror_mode": {
    "name": "ipython",
    "version": 3
   },
   "file_extension": ".py",
   "mimetype": "text/x-python",
   "name": "python",
   "nbconvert_exporter": "python",
   "pygments_lexer": "ipython3",
   "version": "3.7.6"
  }
 },
 "nbformat": 4,
 "nbformat_minor": 4
}
